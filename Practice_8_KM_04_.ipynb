{
  "nbformat": 4,
  "nbformat_minor": 0,
  "metadata": {
    "colab": {
      "name": "Practice_7_KM-01_.ipynb",
      "provenance": [],
      "collapsed_sections": []
    },
    "kernelspec": {
      "name": "python3",
      "display_name": "Python 3.8.5 32-bit",
      "metadata": {
        "interpreter": {
          "hash": "6d58817d7a36abfa3a827e4c983e24a2b2aeec7ad475bf8b9406aeab7b3302d2"
        }
      }
    }
  },
  "cells": [
    {
      "cell_type": "markdown",
      "metadata": {
        "id": "FMqboNwO4rVs"
      },
      "source": [
        "# **Курс \"Програмування на мові Python\"**\n",
        "\n",
        "##### Викладачі:\n",
        "##### Борисенко Павло Борисович\n",
        "##### Щьоголєв Максим Олегович\n"
      ]
    },
    {
      "cell_type": "markdown",
      "metadata": {
        "id": "A2T6MigL5Z06"
      },
      "source": [
        "## **Практичне зайняття №8**\n",
        "\n",
        "### Тема: \"Робота з функціями. Локальні та глобальні змінні\""
      ]
    },
    {
      "cell_type": "markdown",
      "metadata": {
        "id": "cfCdgK2zXm7e"
      },
      "source": [
        "### **Завдання 1 (3 бали)**\n",
        "\n",
        "**Підрахувати визначник матриці, використовуючи правило перестановок.**\n",
        "\n",
        "Функція random_matrix() призначена для створення квадратної матриці випадкових чисел. Її змінювати непотрібно.\n",
        "\n",
        "Приклад використання методу permutations() для створення списку перестановок також подається у комірці з кодом.\n",
        "\n",
        "1) Створити 3 функції: функцію створення списку перестановок, функцію підрахунку добутків та функцію підрахунку загальної суми.\n",
        "\n",
        "2) Кожна функція має супроводжуватись рядком документації, що буде коротко описувати її призначення.\n",
        "\n",
        "3) Розмірність квадратної матриці має вводитись користувачем з клавіатури. Підрахунки виконувати лише в тому разі, якщо користувач введе ціле додатне число.\n",
        "\n",
        "4) Загальний результат повинен підраховуватись за допомогою композиції функцій.\n",
        "\n",
        "За бажання можна перевірити правильність роботи програми за допомогою функції np.linalg.det(a)."
      ]
    },
    {
      "cell_type": "code",
      "metadata": {
        "id": "ifNX2M7LXm7f"
      },
      "source": [
        "import numpy as np\n",
        "import itertools\n",
        "\n",
        "dim = input('Enter the number of rows of the square matrix: ')\n",
        "\n",
        "def random_matrix(dim):\n",
        "    \"\"\"\n",
        "    The function generates dim x dim array of integers\n",
        "    between 0 and 10.\n",
        "    \"\"\"\n",
        "    matrix = np.random.randint(10, size = (dim, dim))\n",
        "    return matrix\n",
        "\n",
        "matrix = random_matrix(dim)\n",
        "\n",
        "# Data validation:\n",
        "while dim.isdecimal() == False and int(dim) <= 0:\n",
        "    print('Invalid length.')\n",
        "    dim = input('Enter the number of rows of the square matrix: ')\n",
        "\n",
        "# Creating a new list of all matrix elements (newlist) to get a pormutation:\n",
        "def getting_a_list(dim):\n",
        "    newlist = []\n",
        "    for i in range(1,int(dim) + 1):\n",
        "        newlist.append(str(i))\n",
        "    return(newlist)\n",
        "\n",
        "# Gettind a list of permutations. Creating a new list of permytations (perm_list):\n",
        "perm_list = list(itertools.permutations(getting_a_list(dim), len(getting_a_list(dim))))\n",
        "\n",
        "# Multiplication counting function. Sequential multiplication of matrix elements:\n",
        "def multiplication_counting(ind):\n",
        "    product = 1\n",
        "\n",
        "    for n in range(0,len(getting_a_list(dim))):\n",
        "        product *= matrix[n][int(ind[n]) - 1]\n",
        "    \n",
        "    return product\n",
        "\n",
        " # Calculation of the number of inversions and sign:\n",
        "def sign_calc(ind):\n",
        "    inv_quant = 0\n",
        "    newlist = []\n",
        "\n",
        "    for i in range(len(perm_list)):\n",
        "    for m in perm_list[i]:\n",
        "        for l in perm_list[i]:\n",
        "            if m>l:\n",
        "                inv_quant += 1\n",
        "        if inv_quant % 2 == 0:\n",
        "            newlist.append('1')\n",
        "        else:\n",
        "            newlist.append('-1')\n",
        "        inv_quant = 0\n",
        "\n",
        "     return newlist[int(ind) - 1] \n",
        " \n",
        "# Calculation of the total:\n",
        "def total_calc(ind):\n",
        "    sum = 0\n",
        "    for e in ind:\n",
        "        sum += multiplication_counting(ind)*sign_calc(ind)\n",
        "\n",
        "    return sum    \n",
        "\n",
        "# Response output:\n",
        "print('Determinant value: ', total_calc(ind))\n",
        "\n",
        "\n"
      ],
      "execution_count": null,
      "outputs": []
    },
    {
      "cell_type": "code",
      "execution_count": null,
      "metadata": {},
      "outputs": [],
      "source": []
    },
    {
      "cell_type": "code",
      "execution_count": null,
      "metadata": {},
      "outputs": [],
      "source": []
    }
  ]
}